{
 "cells": [
  {
   "cell_type": "markdown",
   "id": "1ee0aff2",
   "metadata": {},
   "source": [
    "# 1. write a function which will try to find out length of a string without using an inbuilt len function"
   ]
  },
  {
   "cell_type": "code",
   "execution_count": 19,
   "id": "e3089bf1",
   "metadata": {},
   "outputs": [],
   "source": [
    "def test1(s):\n",
    "    sum = 0\n",
    "    for i in s:\n",
    "        if type(i) == str:\n",
    "            sum = sum+1\n",
    "    return sum"
   ]
  },
  {
   "cell_type": "code",
   "execution_count": 20,
   "id": "eb726e39",
   "metadata": {},
   "outputs": [],
   "source": [
    "a = \"hemant chaudhary is learning python\""
   ]
  },
  {
   "cell_type": "code",
   "execution_count": 21,
   "id": "1047f7b5",
   "metadata": {},
   "outputs": [
    {
     "data": {
      "text/plain": [
       "35"
      ]
     },
     "execution_count": 21,
     "metadata": {},
     "output_type": "execute_result"
    }
   ],
   "source": [
    "test1(a)"
   ]
  },
  {
   "cell_type": "markdown",
   "id": "40aa776a",
   "metadata": {},
   "source": [
    "# 2. write a function which  will be able to print an index of list element without using an index function"
   ]
  },
  {
   "cell_type": "code",
   "execution_count": 24,
   "id": "992631f8",
   "metadata": {},
   "outputs": [],
   "source": [
    "def test2(l):\n",
    "    for i in range(0,len(l)):\n",
    "        print(f\"index of {l[i]}is {i}\")\n",
    "    return \"list ended\"\n",
    "        "
   ]
  },
  {
   "cell_type": "code",
   "execution_count": 25,
   "id": "3456512c",
   "metadata": {},
   "outputs": [
    {
     "name": "stdout",
     "output_type": "stream",
     "text": [
      "index of his 0\n",
      "index of eis 1\n",
      "index of mis 2\n",
      "index of ais 3\n",
      "index of nis 4\n",
      "index of tis 5\n",
      "index of  is 6\n",
      "index of cis 7\n",
      "index of his 8\n",
      "index of ais 9\n",
      "index of uis 10\n",
      "index of dis 11\n",
      "index of his 12\n",
      "index of ais 13\n",
      "index of ris 14\n",
      "index of yis 15\n",
      "index of  is 16\n",
      "index of iis 17\n",
      "index of sis 18\n",
      "index of  is 19\n",
      "index of lis 20\n",
      "index of eis 21\n",
      "index of ais 22\n",
      "index of ris 23\n",
      "index of nis 24\n",
      "index of iis 25\n",
      "index of nis 26\n",
      "index of gis 27\n",
      "index of  is 28\n",
      "index of pis 29\n",
      "index of yis 30\n",
      "index of tis 31\n",
      "index of his 32\n",
      "index of ois 33\n",
      "index of nis 34\n"
     ]
    },
    {
     "data": {
      "text/plain": [
       "'list ended'"
      ]
     },
     "execution_count": 25,
     "metadata": {},
     "output_type": "execute_result"
    }
   ],
   "source": [
    "test2(a)"
   ]
  },
  {
   "cell_type": "markdown",
   "id": "23db4419",
   "metadata": {},
   "source": [
    "# 3. write a function which will be able to print an ip address of your system"
   ]
  },
  {
   "cell_type": "code",
   "execution_count": 29,
   "id": "ac3ab683",
   "metadata": {},
   "outputs": [],
   "source": [
    "import socket\n",
    "def test3():\n",
    "\n",
    "    ip_address = socket.gethostbyname(socket.gethostname())\n",
    "    print(\"IP Address: \" + ip_address)"
   ]
  },
  {
   "cell_type": "code",
   "execution_count": 30,
   "id": "412bd749",
   "metadata": {},
   "outputs": [
    {
     "name": "stdout",
     "output_type": "stream",
     "text": [
      "IP Address: 192.168.81.175\n"
     ]
    }
   ],
   "source": [
    "test3()"
   ]
  },
  {
   "cell_type": "markdown",
   "id": "ff23e6a3",
   "metadata": {},
   "source": [
    "# 4. write a function which will shutdown your system"
   ]
  },
  {
   "cell_type": "code",
   "execution_count": 39,
   "id": "8871a6ee",
   "metadata": {},
   "outputs": [
    {
     "name": "stdout",
     "output_type": "stream",
     "text": [
      "Enter S for shutdown g\n",
      "wrong input\n"
     ]
    }
   ],
   "source": [
    "import os\n",
    "import platform\n",
    "def shutdown():\n",
    "    if platform.system()==\"windows\":\n",
    "        os.system(\"shutdown -s\")\n",
    "    else:\n",
    "        print(\"os is not supported\")\n",
    "command=input(\"Enter S for shutdown \")\n",
    "if command==\"s\" and command==\"S\":\n",
    "    shutdown ()\n",
    "else:\n",
    "    print(\"wrong input\")\n"
   ]
  },
  {
   "cell_type": "markdown",
   "id": "a28bc49e",
   "metadata": {},
   "source": [
    "# 5. write a function which will take input as a list with any kind of numeric value and give an out as a multiplication of all the numeric data l = [3.5, 6.56, 4,5,\"sudh\" , \"ineuron\" , 'fsda bootcamp 2.0']"
   ]
  },
  {
   "cell_type": "code",
   "execution_count": 40,
   "id": "c4bce5f6",
   "metadata": {},
   "outputs": [],
   "source": [
    "l =[3.5,6.56,4,5,\"sudh\",\"ineuron\",\"fsda bootcamp 2.o\"]"
   ]
  },
  {
   "cell_type": "code",
   "execution_count": 44,
   "id": "a1b0c21e",
   "metadata": {},
   "outputs": [],
   "source": [
    "def test4(l):\n",
    "    total =1\n",
    "    for i in l:\n",
    "        if isinstance(i,(int,float)):\n",
    "            total = total*i\n",
    "    return total"
   ]
  },
  {
   "cell_type": "code",
   "execution_count": 45,
   "id": "c7d3dd2f",
   "metadata": {},
   "outputs": [
    {
     "data": {
      "text/plain": [
       "459.19999999999993"
      ]
     },
     "execution_count": 45,
     "metadata": {},
     "output_type": "execute_result"
    }
   ],
   "source": [
    "test4(l)"
   ]
  },
  {
   "cell_type": "code",
   "execution_count": null,
   "id": "19343b56",
   "metadata": {},
   "outputs": [],
   "source": []
  }
 ],
 "metadata": {
  "kernelspec": {
   "display_name": "Python 3 (ipykernel)",
   "language": "python",
   "name": "python3"
  },
  "language_info": {
   "codemirror_mode": {
    "name": "ipython",
    "version": 3
   },
   "file_extension": ".py",
   "mimetype": "text/x-python",
   "name": "python",
   "nbconvert_exporter": "python",
   "pygments_lexer": "ipython3",
   "version": "3.9.12"
  }
 },
 "nbformat": 4,
 "nbformat_minor": 5
}
